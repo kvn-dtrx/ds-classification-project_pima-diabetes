{
 "cells": [
  {
   "cell_type": "code",
   "execution_count": null,
   "id": "6aee9ea9",
   "metadata": {},
   "outputs": [],
   "source": [
    "import os\n",
    "import subprocess\n",
    "import pandas"
   ]
  },
  {
   "cell_type": "code",
   "execution_count": null,
   "id": "0eb31379",
   "metadata": {},
   "outputs": [],
   "source": [
    "# Path to root directory of the repo.\n",
    "root_dir_ = subprocess.check_output(\n",
    "    [\"git\", \"rev-parse\", \"--show-toplevel\"],\n",
    "    text=True,\n",
    ")\n",
    "ROOT_DIR = root_dir_.strip()\n",
    "# Path to data directory.\n",
    "DATA_DIR = os.path.join(ROOT_DIR, \"data\")\n",
    "# Path from which dataframe will be loaded\n",
    "DF_PKL_PATH = os.path.join(DATA_DIR, \"df.pkl\") "
   ]
  },
  {
   "cell_type": "code",
   "execution_count": null,
   "id": "507a1c5d",
   "metadata": {},
   "outputs": [],
   "source": [
    "df = pandas.read_pickle(DF_PKL_PATH)"
   ]
  },
  {
   "cell_type": "code",
   "execution_count": null,
   "id": "1e9cdce1",
   "metadata": {},
   "outputs": [],
   "source": [
    "df.sample(10)"
   ]
  },
  {
   "cell_type": "code",
   "execution_count": null,
   "id": "d70d4b33",
   "metadata": {},
   "outputs": [],
   "source": [
    "df.info()"
   ]
  },
  {
   "cell_type": "code",
   "execution_count": null,
   "id": "d20af2c0",
   "metadata": {},
   "outputs": [],
   "source": []
  }
 ],
 "metadata": {
  "kernelspec": {
   "display_name": ".venv",
   "language": "python",
   "name": "python3"
  },
  "language_info": {
   "codemirror_mode": {
    "name": "ipython",
    "version": 3
   },
   "file_extension": ".py",
   "mimetype": "text/x-python",
   "name": "python",
   "nbconvert_exporter": "python",
   "pygments_lexer": "ipython3",
   "version": "3.13.3"
  }
 },
 "nbformat": 4,
 "nbformat_minor": 5
}
