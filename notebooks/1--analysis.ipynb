{
 "cells": [
  {
   "cell_type": "markdown",
   "id": "deff2ba3",
   "metadata": {},
   "source": [
    "# Data Analysis\n",
    "\n",
    "## Setup\n",
    "\n",
    "For the purposes of our analysis, the following modules shall be required:"
   ]
  },
  {
   "cell_type": "code",
   "execution_count": null,
   "id": "6aee9ea9",
   "metadata": {},
   "outputs": [],
   "source": [
    "import os\n",
    "import pandas as pd\n",
    "import numpy as np\n",
    "import seaborn as sns\n",
    "import matplotlib.pyplot as plt\n",
    "from datetime import date\n",
    "\n",
    "from sklearn.model_selection import train_test_split\n",
    "\n",
    "from ipynb_utils import CFG"
   ]
  },
  {
   "cell_type": "code",
   "execution_count": null,
   "id": "0eb31379",
   "metadata": {},
   "outputs": [],
   "source": [
    "DATA_DIR = CFG[\"DATA_DIR\"]\n",
    "\n",
    "# Path from which dataframe will be loaded\n",
    "DF_PKL_PATH_SRC = os.path.join(DATA_DIR, \"df_raw.pkl\") \n",
    "DF_PKL_PATH_TAR = os.path.join(DATA_DIR, \"df_processed.pkl\")\n",
    "DF_PKL_PATH_TAR_ = os.path.join(DATA_DIR, \"df_duplicate.pkl\")"
   ]
  },
  {
   "cell_type": "markdown",
   "id": "d60ee084",
   "metadata": {},
   "source": [
    "Let us now load the data frame containing the diabetes dataset."
   ]
  },
  {
   "cell_type": "code",
   "execution_count": null,
   "id": "33cc7e6b",
   "metadata": {},
   "outputs": [],
   "source": [
    "df = pd.read_pickle(DF_PKL_PATH_SRC)"
   ]
  },
  {
   "cell_type": "markdown",
   "id": "63f8fa5c",
   "metadata": {},
   "source": [
    "## First Inspection\n",
    "\n",
    "As a preliminary inspection, let us invoke the info and sample methods of the data frame."
   ]
  },
  {
   "cell_type": "code",
   "execution_count": null,
   "id": "4bee953b",
   "metadata": {},
   "outputs": [],
   "source": [
    "df.info()"
   ]
  },
  {
   "cell_type": "code",
   "execution_count": null,
   "id": "2b21a445",
   "metadata": {},
   "outputs": [],
   "source": [
    "df.sample(8)"
   ]
  },
  {
   "cell_type": "markdown",
   "id": "93cde4cd",
   "metadata": {},
   "source": [
    "We observe that the dataset contains no missing values, at least formally; the majority of columns appear to possess the appropriate data type.\n",
    "\n",
    "Let us proceed with the renaming and reordering of columns for the sake of convenience."
   ]
  },
  {
   "cell_type": "code",
   "execution_count": null,
   "id": "2fe5c175",
   "metadata": {},
   "outputs": [],
   "source": [
    "df = df.rename(columns={\n",
    "    \"Age\": \"age\",\n",
    "    \"diabetespedigreefunction\": \"dpf\",\n",
    "    # We will provide arguments below why \"outcome\" is\n",
    "    # \"has_diabetes\" and not \"has_no_diabetes\".\n",
    "    \"outcome\": \"has_diabetes\",\n",
    "    \"measurement_date\": \"date\",\n",
    "})\n",
    "\n",
    "# Sort columns as follows:\n",
    "# id, features lexicographically, target.\n",
    "features_sorted = sorted([col for col in df.columns if col not in [\"id\", \"has_diabetes\"]])\n",
    "cols = [\"id\"] + features_sorted + [\"has_diabetes\"]\n",
    "df = df[cols]\n",
    " \n",
    "df.info()"
   ]
  },
  {
   "cell_type": "markdown",
   "id": "f5cc89ff",
   "metadata": {},
   "source": [
    "As indicated in the preceding comment, we confirm that the column \"has_diabetes\" (formerly \"outcome\") indeed encodes the presence, rather than the absence, of type 1 diabetes. \n",
    "\n",
    "TODO: First let us observe that the column is logically indeed Boolean."
   ]
  },
  {
   "cell_type": "code",
   "execution_count": null,
   "id": "ca6c336a",
   "metadata": {},
   "outputs": [],
   "source": [
    "df[\"has_diabetes\"].unique()"
   ]
  },
  {
   "cell_type": "markdown",
   "id": "29766b62",
   "metadata": {},
   "source": [
    "It is well established that increasing age and body mass index are associated with a greater likelihood of various diseases, including type 1 diabetes. Let us now examine the distributions of these features conditioned on diagnostic outcome."
   ]
  },
  {
   "cell_type": "code",
   "execution_count": null,
   "id": "4756de26",
   "metadata": {},
   "outputs": [],
   "source": [
    "fig, axes = plt.subplots(1, 2, figsize=(12, 5))\n",
    "\n",
    "# First subplot: Age\n",
    "sns.kdeplot(data=df, x=\"age\", hue=\"has_diabetes\", common_norm=False, ax=axes[0])\n",
    "axes[0].set_title(\"Age Distribution by Diabetes Status\")\n",
    "axes[0].set_xlabel(\"Age\")\n",
    "axes[0].set_ylabel(\"Density\")\n",
    "\n",
    "# Second subplot: BMI\n",
    "sns.kdeplot(data=df, x=\"bmi\", hue=\"has_diabetes\", common_norm=False, ax=axes[1])\n",
    "axes[1].set_title(\"BMI Distribution by Diabetes Status\")\n",
    "axes[1].set_xlabel(\"BMI\")\n",
    "axes[1].set_ylabel(\"Density\")\n",
    "\n",
    "plt.tight_layout()\n",
    "plt.show()\n"
   ]
  },
  {
   "cell_type": "markdown",
   "id": "f21c9e87",
   "metadata": {},
   "source": [
    "Our claim that \"outcome\" signifies \"has_diabetes\" may be deemed confirmed by these two plots.\n",
    "\n",
    "Subsequently, let us assign the correct data type to the \"date\" feature."
   ]
  },
  {
   "cell_type": "code",
   "execution_count": null,
   "id": "56dd26be",
   "metadata": {},
   "outputs": [],
   "source": [
    "df[\"date\"] = pd.to_datetime(df[\"date\"])"
   ]
  },
  {
   "cell_type": "markdown",
   "id": "7482146c",
   "metadata": {},
   "source": [
    "With the aid of the [accompanying paper](../archive/adap-diabetes.pdf), we may now complete a  table explicating the column names."
   ]
  },
  {
   "cell_type": "markdown",
   "id": "63bba2ce",
   "metadata": {},
   "source": [
    "| Name | Description |\n",
    "| --- | --- |\n",
    "| id | Patient ID |\n",
    "| age | Age in years |\n",
    "| bloodpressure | Diastolic blood pressure in $mm Hg$ |\n",
    "| bmi | Body mass index in $\\frac{kg}{m^2}$ |\n",
    "| date | Date of measurement |\n",
    "| dpf | Diabetes pedigree function (further explained below) |\n",
    "| glucose | Plasma glucose concentration at 2 hours in an oral glucose tolerance test (OGTT) |\n",
    "| has_diabetes | Whether type 1 diabetes developed within 5 years |\n",
    "| insulin | 2 hour serum insulin in $\\frac{\\mu U}{ml}$ |\n",
    "| pregnancies | Number of pregnancies |\n",
    "| skinthickness | Triceps skinfold thickness in millimetres |"
   ]
  },
  {
   "cell_type": "markdown",
   "id": "bf18c821",
   "metadata": {},
   "source": [
    "The following plots may provide a visual impression of the individual feature distributions."
   ]
  },
  {
   "cell_type": "code",
   "execution_count": null,
   "id": "34f2f2e2",
   "metadata": {},
   "outputs": [],
   "source": [
    "cols_blacklist = [\n",
    "    \"id\", \n",
    "    \"has_diabetes\",\n",
    "]\n",
    "\n",
    "cols = [col for col in df.columns if col not in cols_blacklist]\n",
    "\n",
    "fig, axes = plt.subplots(5, 2, figsize=(12, 20))\n",
    "axes = axes.flatten()\n",
    "\n",
    "for i, col in enumerate(cols):\n",
    "    ax = axes[i]\n",
    "    sns.histplot(data=df, x=col, ax=ax, color=\"black\", linestyle=\"--\")\n",
    "    ax.set_title(col)\n",
    "plt.tight_layout()\n",
    "plt.show()"
   ]
  },
  {
   "cell_type": "markdown",
   "id": "40333b96",
   "metadata": {},
   "source": [
    "Let us now enumerate the salient features observed in these distributions:\n",
    "\n",
    "- The \"date\" feature takes only two distinct values.\n",
    "- The \"bloodpressure\" feature shows an implausible range of values.\n",
    "- Implausible zero values appear in \"bloodpressure\", \"bmi\", \"glucose\", \"insulin\" and \"skinthickness\".\n",
    "\n",
    "We will examine these anomalies in the following section."
   ]
  },
  {
   "cell_type": "markdown",
   "id": "11176ade",
   "metadata": {},
   "source": [
    "## The Insidious Data Duplication\n",
    "\n",
    "The plot for the date column exhibits only two values. Indeed:"
   ]
  },
  {
   "cell_type": "code",
   "execution_count": null,
   "id": "0519d8cb",
   "metadata": {},
   "outputs": [],
   "source": [
    "df[\"date\"].unique()"
   ]
  },
  {
   "cell_type": "markdown",
   "id": "03f805bd",
   "metadata": {},
   "source": [
    "During the discussion of the exercise, it was revealed that rows dated 2022-12-01 were to be removed as they were claimed to be synthetic.\n",
    "\n",
    "However, it transpires that matters are not so straightforward. The dataset was not simply duplicated. We do not share the view of the instructors that this fact becomes evident after reading the accompanying paper.\n",
    "\n",
    "A more careful examination demonstrates that the \"difference data frame\" is not identically zero: The difference columns for \"bloodpressure\" and \"glucose\" appear to follow bell-shaped distributions; the difference column for \"insulin\" exhibits a skewed distribution.\n",
    "\n",
    "In our opinion, these manipulations are not *eo ipso* detectable with absolute certainty, particularly as the analyst must place some minimal trust in the integrity of the provided data.\n",
    "\n",
    "Consequently, an honest data analysis should address this \"date anomaly\" more carefully. We outline this analysis in an [external notebook](./archive/1--analysis_hint-ignorant.ipynb); therefore, we store the processed data frame in its current state to disk."
   ]
  },
  {
   "cell_type": "code",
   "execution_count": null,
   "id": "2bffe50d",
   "metadata": {},
   "outputs": [],
   "source": [
    "df.to_pickle(DF_PKL_PATH_TAR_)"
   ]
  },
  {
   "cell_type": "markdown",
   "id": "6250268f",
   "metadata": {},
   "source": [
    "However, for the remaining part of our analysis (and modelling), we follow the hint and remove all affected rows."
   ]
  },
  {
   "cell_type": "code",
   "execution_count": null,
   "id": "48a9a15d",
   "metadata": {},
   "outputs": [],
   "source": [
    "df = df[df[\"date\"] != \"2022-12-01\"]"
   ]
  },
  {
   "cell_type": "markdown",
   "id": "8fa560e0",
   "metadata": {},
   "source": [
    "As the column \"date\" has become constant, it does not possess any explanatory power any longer. Accordingly, we may drop it entirely from the data frame."
   ]
  },
  {
   "cell_type": "code",
   "execution_count": null,
   "id": "1ec370d0",
   "metadata": {},
   "outputs": [],
   "source": [
    "if \"date\" in df.columns:\n",
    "    df = df.drop(columns = [\"date\"])"
   ]
  },
  {
   "cell_type": "markdown",
   "id": "0bb85169",
   "metadata": {},
   "source": [
    "## Implausible Values: Part I\n",
    "\n",
    "In this subsection, we scrutinise the implausible zero values in the columns \"bloodpressure\", \"bmi\", \"glucose\", \"insulin\" and \"skinthickness\" and further, the implausible range of values for \"bloodpressure\".\n",
    "\n",
    "It is very likely that the implausible zero values are actually missing values. Hence, let us convert them accordingly:"
   ]
  },
  {
   "cell_type": "code",
   "execution_count": null,
   "id": "25508996",
   "metadata": {},
   "outputs": [],
   "source": [
    "cols = [\n",
    "    \"bloodpressure\",\n",
    "    \"bmi\",\n",
    "    \"glucose\",\n",
    "    \"insulin\",\n",
    "    \"skinthickness\",\n",
    "]\n",
    "\n",
    "df[cols] = df[cols].replace(0, np.nan)"
   ]
  },
  {
   "cell_type": "markdown",
   "id": "ac9f83c8",
   "metadata": {},
   "source": [
    "The profile of missing values is structured as follows:"
   ]
  },
  {
   "cell_type": "code",
   "execution_count": null,
   "id": "48599fea",
   "metadata": {},
   "outputs": [],
   "source": [
    "df_tmp = df.isnull().agg([\"sum\", \"mean\"])\n",
    "df_tmp.loc[\"mean\"] = df_tmp.loc[\"mean\"].round(2)\n",
    "df_tmp.T"
   ]
  },
  {
   "cell_type": "code",
   "execution_count": null,
   "id": "9c099274",
   "metadata": {},
   "outputs": [],
   "source": [
    "mask = df.isnull().sum(axis=1) >= 4\n",
    "\n",
    "# Count how many rows satisfy this\n",
    "count = mask.sum()\n",
    "\n",
    "df = df[~mask]"
   ]
  },
  {
   "cell_type": "code",
   "execution_count": null,
   "id": "bc097851",
   "metadata": {},
   "outputs": [],
   "source": [
    "df.isnull().sum()"
   ]
  },
  {
   "cell_type": "code",
   "execution_count": null,
   "id": "f300e6a8",
   "metadata": {},
   "outputs": [],
   "source": [
    "cols = [\n",
    "    \"bloodpressure\",\n",
    "    \"bmi\",\n",
    "    \"glucose\",\n",
    "]\n",
    "\n",
    "df[cols].isnull().any(axis=1).sum()"
   ]
  },
  {
   "cell_type": "code",
   "execution_count": null,
   "id": "a4fdb281",
   "metadata": {},
   "outputs": [],
   "source": [
    "df = df.dropna(subset=cols)"
   ]
  },
  {
   "cell_type": "code",
   "execution_count": null,
   "id": "cc9117b6",
   "metadata": {},
   "outputs": [],
   "source": [
    "df.isnull().sum()"
   ]
  },
  {
   "cell_type": "markdown",
   "id": "1fd9a062",
   "metadata": {},
   "source": [
    "TODO:\n",
    "\n",
    "Considerable amount of rows affected for \"insulin\" and \"skinthickness\". Simply dropping the corresponding rows would halve the dataset. Therefore, we need to impute the values.\n",
    "\n",
    "From now on, we remove no rows anymore but impute\n",
    "However, in order to avoid data leakage we must prepend some considerations about the train test split\n"
   ]
  },
  {
   "cell_type": "markdown",
   "id": "2250a322",
   "metadata": {},
   "source": [
    "## Parenthesis: Train-Test Split\n",
    "\n",
    "We examine the target \"has_diabetes\". We already saw that this column is zero-one valued. But the classes are imbalanced:"
   ]
  },
  {
   "cell_type": "code",
   "execution_count": null,
   "id": "2e552e33",
   "metadata": {},
   "outputs": [],
   "source": [
    "df[\"has_diabetes\"].mean()"
   ]
  },
  {
   "cell_type": "markdown",
   "id": "30862687",
   "metadata": {},
   "source": [
    "Therefore it is wise to pass the stratify argument to the splitting method. As we remove no indices any more, it \n",
    "\n",
    "Most practical to implement the train-test split as a pseudo-feature \"is_test\" which indicates whether \n",
    "\n",
    "pertain model"
   ]
  },
  {
   "cell_type": "code",
   "execution_count": null,
   "id": "84a59e24",
   "metadata": {},
   "outputs": [],
   "source": [
    "idx_0, idx_1 = train_test_split(\n",
    "    df.index,\n",
    "    # test_size=CFG[\"TEST_SIZE\"],\n",
    "    test_size=0.2,\n",
    "    random_state=CFG[\"RSEED\"],\n",
    "    stratify=df[\"has_diabetes\"]\n",
    ")\n",
    "\n",
    "df[\"is_test\"] = 0\n",
    "df.loc[idx_1, \"is_test\"] = 1\n",
    "\n",
    "df_0 = df.loc[idx_0]\n",
    "df_1 = df.loc[idx_1]"
   ]
  },
  {
   "cell_type": "code",
   "execution_count": null,
   "id": "d5530d92",
   "metadata": {},
   "outputs": [],
   "source": [
    "for name, df_split in [(\"Train\", df_0), (\"Test\", df_1)]:\n",
    "    total = len(df_split)\n",
    "    positives = df_split[\"has_diabetes\"].sum()\n",
    "    percent = positives / total\n",
    "    print(f\"{name} Set:\") \n",
    "    print(f\"  Total Individuals   : {total:>4}\")\n",
    "    print(f\"  With Diabetes (abs) : {positives:>4}\")\n",
    "    print(f\"  With Diabetes (rel) : {percent:.2f}\")\n"
   ]
  },
  {
   "cell_type": "markdown",
   "id": "33c8def6",
   "metadata": {},
   "source": [
    "## Implausible Values: Part II\n",
    "\n",
    "We resume our treatment of implausible values. We shall impute values for \"insulin\" and \"skinthickness\". "
   ]
  },
  {
   "cell_type": "code",
   "execution_count": null,
   "id": "a390d3be",
   "metadata": {},
   "outputs": [],
   "source": [
    "cols = [\n",
    "    \"insulin\", \n",
    "    \"skinthickness\",\n",
    "]\n",
    "\n",
    "fig, axes = plt.subplots(1, 2, figsize=(12, 6))\n",
    "axes = axes.flatten()\n",
    "\n",
    "for i, col in enumerate(cols):\n",
    "    ax = axes[i]\n",
    "    sns.histplot(data=df_0, x=col, ax=ax, color=\"black\", linestyle=\"--\", bins=64)\n",
    "    ax.set_title(col)\n",
    "plt.tight_layout()\n",
    "plt.show()"
   ]
  },
  {
   "cell_type": "markdown",
   "id": "c7d870e8",
   "metadata": {},
   "source": [
    "Insulin appears to be unimodular and right-tailed, i.e. possessing positive skewness. Indeed:"
   ]
  },
  {
   "cell_type": "code",
   "execution_count": null,
   "id": "85314fab",
   "metadata": {},
   "outputs": [],
   "source": [
    "df_0[\"insulin\"].skew()"
   ]
  },
  {
   "cell_type": "markdown",
   "id": "3adc3312",
   "metadata": {},
   "source": [
    "We impute the missing values in the \"insulin\" column with the median of its train values."
   ]
  },
  {
   "cell_type": "code",
   "execution_count": null,
   "id": "bbaca490",
   "metadata": {},
   "outputs": [],
   "source": [
    "median = df_0[\"insulin\"].median()\n",
    "df[\"insulin\"] = df[\"insulin\"].fillna(median)"
   ]
  },
  {
   "cell_type": "markdown",
   "id": "0f6bf35f",
   "metadata": {},
   "source": [
    "Skin Thickness appears to be unimodular and nearly symmetric. Indeed, the modulus of skewness does not exceed $1$:"
   ]
  },
  {
   "cell_type": "code",
   "execution_count": null,
   "id": "3815a08c",
   "metadata": {},
   "outputs": [],
   "source": [
    "df_0[\"skinthickness\"].skew()"
   ]
  },
  {
   "cell_type": "markdown",
   "id": "6d366bc2",
   "metadata": {},
   "source": [
    "Therefore, it is reasonable to choose replacing by mean as imputing strategy"
   ]
  },
  {
   "cell_type": "code",
   "execution_count": null,
   "id": "b420aff3",
   "metadata": {},
   "outputs": [],
   "source": [
    "mean = df_0[\"insulin\"].mean()\n",
    "df[\"skinthickness\"] = df[\"skinthickness\"].fillna(mean)"
   ]
  },
  {
   "cell_type": "markdown",
   "id": "67b44660",
   "metadata": {},
   "source": [
    "This step concludes our as all missing values were addressed:"
   ]
  },
  {
   "cell_type": "code",
   "execution_count": null,
   "id": "c2527a5d",
   "metadata": {},
   "outputs": [],
   "source": [
    "df.isnull().sum().sum()"
   ]
  },
  {
   "cell_type": "markdown",
   "id": "3fe0506e",
   "metadata": {},
   "source": [
    "# Final Depiction At Polished Data\n",
    "\n"
   ]
  },
  {
   "cell_type": "markdown",
   "id": "aff9532c",
   "metadata": {},
   "source": [
    "Before we render a plot depicting the "
   ]
  },
  {
   "cell_type": "code",
   "execution_count": null,
   "id": "29cebf19",
   "metadata": {},
   "outputs": [],
   "source": [
    "cols_blacklist = [\n",
    "    \"id\",\n",
    "    \"is_test\",\n",
    "    # \"has_diabetes\",\n",
    "]\n",
    "cols = [col for col in df.columns if col not in cols_blacklist]\n",
    "df_subset = df[cols]\n",
    "\n",
    "sns.pairplot(df_subset, hue=\"has_diabetes\", diag_kind=\"kde\")\n",
    "plt.suptitle(\"Pairplot\")\n",
    "plt.show()"
   ]
  },
  {
   "cell_type": "markdown",
   "id": "f216f7db",
   "metadata": {},
   "source": [
    "Correlation matrix"
   ]
  },
  {
   "cell_type": "code",
   "execution_count": null,
   "id": "cabd6652",
   "metadata": {},
   "outputs": [],
   "source": [
    "corr = df_subset.corr(numeric_only=True)\n",
    "\n",
    "plt.figure(figsize=(8, 6))\n",
    "sns.heatmap(corr, annot=True, fmt=\".2f\")\n",
    "plt.title(\"Correlation Matrix\")\n",
    "plt.tight_layout()\n",
    "plt.show()\n"
   ]
  },
  {
   "cell_type": "markdown",
   "id": "1093954b",
   "metadata": {},
   "source": [
    "Most correlated with the target \"has_diabetes\" are \"glucose\" (0.49) and \"bmi\" (0.25).\n",
    "\n",
    "The greatest correlation is between age and pregnancies. This is to expect as each pregnancy requires a certain duration of time  (9 months)."
   ]
  },
  {
   "cell_type": "markdown",
   "id": "ed85d0f9",
   "metadata": {},
   "source": [
    "\n",
    "---\n",
    "\n",
    "As a terminal step in this notebook, we store the data frame that now incorporates all our sanitations to disk."
   ]
  },
  {
   "cell_type": "code",
   "execution_count": null,
   "id": "7f1e994b",
   "metadata": {},
   "outputs": [],
   "source": [
    "df.to_pickle(DF_PKL_PATH_TAR)"
   ]
  }
 ],
 "metadata": {
  "kernelspec": {
   "display_name": ".venv",
   "language": "python",
   "name": "python3"
  },
  "language_info": {
   "codemirror_mode": {
    "name": "ipython",
    "version": 3
   },
   "file_extension": ".py",
   "mimetype": "text/x-python",
   "name": "python",
   "nbconvert_exporter": "python",
   "pygments_lexer": "ipython3",
   "version": "3.11.3"
  }
 },
 "nbformat": 4,
 "nbformat_minor": 5
}
