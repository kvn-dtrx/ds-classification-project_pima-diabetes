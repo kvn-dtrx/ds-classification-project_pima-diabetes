{
 "cells": [
  {
   "cell_type": "code",
   "execution_count": 7,
   "id": "3850fc13",
   "metadata": {},
   "outputs": [],
   "source": [
    "import os\n",
    "import shutil\n",
    "import subprocess\n",
    "import tempfile\n"
   ]
  },
  {
   "cell_type": "code",
   "execution_count": null,
   "id": "772ebe28",
   "metadata": {},
   "outputs": [],
   "source": [
    "# Path to root directory of the repo.\n",
    "root_dir_ = subprocess.check_output(\n",
    "    [\"git\", \"rev-parse\", \"--show-toplevel\"],\n",
    "    text=True,\n",
    ")\n",
    "ROOT_DIR = root_dir_.strip()\n",
    "# Path to data directory.\n",
    "DATA_DIR = os.path.join(ROOT_DIR, \"data\")\n",
    "# Paths to which dataframe will be saved\n",
    "DF_CSV_PATH = os.path.join(DATA_DIR, \"df.csv\") "
   ]
  },
  {
   "cell_type": "markdown",
   "id": "751ed5ee",
   "metadata": {},
   "source": [
    "Shallow clone\n",
    "\n",
    "Note ssh must be available"
   ]
  },
  {
   "cell_type": "code",
   "execution_count": 9,
   "id": "56b2fb5c",
   "metadata": {},
   "outputs": [],
   "source": [
    "REPO_URL = \"git@github.com:neuefische/ds-diabetes-challenge.git\"\n",
    "CSV_PATH_REL = \"data/titanic.csv\""
   ]
  },
  {
   "cell_type": "code",
   "execution_count": 10,
   "id": "9225469d",
   "metadata": {},
   "outputs": [
    {
     "name": "stderr",
     "output_type": "stream",
     "text": [
      "Cloning into '/var/folders/sd/w05frkx11tlgfrfknd40sp740000gn/T/tmpsczr3rhd'...\n",
      "Updating files: 100% (7/7), done.\n"
     ]
    }
   ],
   "source": [
    "with tempfile.TemporaryDirectory() as tmpdir: \n",
    "    subprocess.run([\n",
    "        \"git\", \"clone\",\n",
    "        # Clones shallowly.\n",
    "        \"--depth\", \"1\",\n",
    "        # Skips blobs initially.\n",
    "        \"--filter=blob:none\",\n",
    "        # Enables sparse checkout mode \n",
    "        \"--sparse\", \n",
    "        REPO_URL, tmpdir\n",
    "    ], check=True)\n",
    "    \n",
    "    subprocess.run([\n",
    "        # Runs git commands in the cloned repo directory.\n",
    "        \"git\", \"-C\", tmpdir, \n",
    "        # Initialises sparse checkout.\n",
    "        \"sparse-checkout\", \"init\",\n",
    "    ], check=True)\n",
    "    \n",
    "    subprocess.run([\n",
    "        # Runs git commands in the cloned repo directory.\n",
    "        \"git\", \"-C\", tmpdir,\n",
    "        # Specifies which files to include in the sparse checkout.\n",
    "        \"sparse-checkout\", \"set\", CSV_PATH_REL,\n",
    "        # Relaxes the checks as sparse-checkout expects directories.\n",
    "        \"--skip-checks\", \n",
    "    ], check=True)\n",
    "    \n",
    "    src_file = os.path.join(tmpdir, CSV_PATH_REL)\n",
    "    shutil.copy2(src_file, DF_CSV_PATH)"
   ]
  }
 ],
 "metadata": {
  "kernelspec": {
   "display_name": ".venv",
   "language": "python",
   "name": "python3"
  },
  "language_info": {
   "codemirror_mode": {
    "name": "ipython",
    "version": 3
   },
   "file_extension": ".py",
   "mimetype": "text/x-python",
   "name": "python",
   "nbconvert_exporter": "python",
   "pygments_lexer": "ipython3",
   "version": "3.13.3"
  }
 },
 "nbformat": 4,
 "nbformat_minor": 5
}
