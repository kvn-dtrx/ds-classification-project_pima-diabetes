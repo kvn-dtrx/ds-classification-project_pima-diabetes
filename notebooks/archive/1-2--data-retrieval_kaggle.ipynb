{
 "cells": [
  {
   "cell_type": "markdown",
   "id": "bab9ba60",
   "metadata": {},
   "source": [
    "# Data Retrieval (Kaggle Version)\n",
    "\n",
    "For completeness, let us briefly sketch how the data would be downloaded (but as csv file) from [kaggle](https://www.kaggle.com). To that end, kaggle API credentials are required (such credential can be created on <https://www.kaggle.com/settings>).\n",
    "\n",
    "TODO:\n",
    "NOTE: Dataset has minor differences. Not polluted for instrucitional purposes\n",
    "\n",
    "We need the following functionality:"
   ]
  },
  {
   "cell_type": "code",
   "execution_count": null,
   "id": "75863730",
   "metadata": {},
   "outputs": [],
   "source": [
    "import os\n",
    "import subprocess\n",
    "from kaggle.api.kaggle_api_extended import KaggleApi\n",
    "from dotenv import load_dotenv"
   ]
  },
  {
   "cell_type": "markdown",
   "id": "342d9196",
   "metadata": {},
   "source": [
    "Let us specify which dataset we concretely want to download and where we want to put it:"
   ]
  },
  {
   "cell_type": "code",
   "execution_count": null,
   "id": "0644d319",
   "metadata": {},
   "outputs": [],
   "source": [
    "# Path to root directory of the repo.\n",
    "root_dir_ = subprocess.check_output(\n",
    "    [\"git\", \"rev-parse\", \"--show-toplevel\"],\n",
    "    text=True,\n",
    ")\n",
    "ROOT_DIR = root_dir_.strip()\n",
    "\n",
    "# Path to data directory.\n",
    "DATA_DIR = os.path.join(ROOT_DIR, \"data\")\n",
    "\n",
    "DATASET_SLUG = \"uciml/pima-indians-diabetes-database\"\n",
    "\n",
    "# This is the name kaggle gives to the downloaded file.\n",
    "TMP_NAME=\"diabetes.csv\"\n",
    "\n",
    "# This is the name we want the downloaded file to have.\n",
    "TARGET_NAME=\"df_kaggle.csv\""
   ]
  },
  {
   "cell_type": "markdown",
   "id": "e42e4091",
   "metadata": {},
   "source": [
    "Now, we load our kaggle API credentials which must be in the `.env` file:"
   ]
  },
  {
   "cell_type": "code",
   "execution_count": null,
   "id": "27120cb4",
   "metadata": {},
   "outputs": [],
   "source": [
    "load_dotenv()\n",
    "\n",
    "os.environ[\"KAGGLE_USERNAME\"] = os.getenv(\"KAGGLE_USERNAME\")\n",
    "os.environ[\"KAGGLE_KEY\"] = os.getenv(\"KAGGLE_KEY\")"
   ]
  },
  {
   "cell_type": "markdown",
   "id": "32e66251",
   "metadata": {},
   "source": [
    "At last, we can download the data from kaggle to the right location:"
   ]
  },
  {
   "cell_type": "code",
   "execution_count": null,
   "id": "16a8cb21",
   "metadata": {},
   "outputs": [],
   "source": [
    "api = KaggleApi()\n",
    "api.authenticate()\n",
    "\n",
    "api.dataset_download_files(DATASET_SLUG, path=DATA_DIR, unzip=True)\n",
    "\n",
    "tmp_path = os.path.join(DATA_DIR, TMP_NAME)\n",
    "target_path = os.path.join(DATA_DIR, TARGET_NAME)\n",
    "\n",
    "os.rename(tmp_path, target_path)"
   ]
  }
 ],
 "metadata": {
  "kernelspec": {
   "display_name": ".venv",
   "language": "python",
   "name": "python3"
  },
  "language_info": {
   "codemirror_mode": {
    "name": "ipython",
    "version": 3
   },
   "file_extension": ".py",
   "mimetype": "text/x-python",
   "name": "python",
   "nbconvert_exporter": "python",
   "pygments_lexer": "ipython3",
   "version": "3.11.3"
  }
 },
 "nbformat": 4,
 "nbformat_minor": 5
}
