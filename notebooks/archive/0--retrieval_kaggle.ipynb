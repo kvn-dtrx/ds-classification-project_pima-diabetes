{
 "cells": [
  {
   "cell_type": "markdown",
   "id": "bab9ba60",
   "metadata": {},
   "source": [
    "# Data Retrieval (Kaggle Version)\n",
    "\n",
    "For the sake of completeness, let us briefly outline how the data might be downloaded (but as csv file) from [kaggle](https://www.kaggle.com). To this end, kaggle API credentials are required (such credentials can be generated at <https://www.kaggle.com/settings>). Should no credentials be supplied, the kaggle API shall raise an error on loading.\n",
    "\n",
    "It should be noted that the datasets are not (necessarily) identical as it contains possibly contaminations deliberatively injected by the instructors for exercise purposes.\n",
    "\n",
    "The following functionality is requisite:"
   ]
  },
  {
   "cell_type": "code",
   "execution_count": null,
   "id": "75863730",
   "metadata": {},
   "outputs": [],
   "source": [
    "import os\n",
    "from kaggle.api.kaggle_api_extended import KaggleApi\n",
    "from dotenv import load_dotenv\n",
    "\n",
    "from ipynb_utils import CFG"
   ]
  },
  {
   "cell_type": "markdown",
   "id": "342d9196",
   "metadata": {},
   "source": [
    "We shall now specify the precise dataset to be downloaded, as well as the intended destination for its storage:"
   ]
  },
  {
   "cell_type": "code",
   "execution_count": null,
   "id": "0644d319",
   "metadata": {},
   "outputs": [],
   "source": [
    "# Kaggle identifier of the dataset.\n",
    "DATASET_SLUG = \"uciml/pima-indians-diabetes-database\"\n",
    "\n",
    "# Filename assigned by kaggle on download.\n",
    "TMP_NAME = \"diabetes.csv\"\n",
    "\n",
    "# Desired filename for local use.\n",
    "TARGET_NAME = \"df_kaggle.csv\""
   ]
  },
  {
   "cell_type": "markdown",
   "id": "e42e4091",
   "metadata": {},
   "source": [
    "We now proceed to load the Kaggle API credentials, which are required to reside within the .env file:"
   ]
  },
  {
   "cell_type": "code",
   "execution_count": null,
   "id": "27120cb4",
   "metadata": {},
   "outputs": [],
   "source": [
    "load_dotenv()\n",
    "\n",
    "os.environ[\"KAGGLE_USERNAME\"] = os.getenv(\"KAGGLE_USERNAME\")\n",
    "os.environ[\"KAGGLE_KEY\"] = os.getenv(\"KAGGLE_KEY\")"
   ]
  },
  {
   "cell_type": "markdown",
   "id": "32e66251",
   "metadata": {},
   "source": [
    "Finally, we may now download the dataset from kaggle:"
   ]
  },
  {
   "cell_type": "code",
   "execution_count": null,
   "id": "16a8cb21",
   "metadata": {},
   "outputs": [],
   "source": [
    "DATA_DIR = CFG[\"DATA_DIR\"]\n",
    "\n",
    "api = KaggleApi()\n",
    "api.authenticate()\n",
    "\n",
    "api.dataset_download_files(DATASET_SLUG, path=DATA_DIR, unzip=True)\n",
    "\n",
    "tmp_path = os.path.join(DATA_DIR, TMP_NAME)\n",
    "target_path = os.path.join(DATA_DIR, TARGET_NAME)\n",
    "\n",
    "os.rename(tmp_path, target_path)"
   ]
  }
 ],
 "metadata": {
  "kernelspec": {
   "display_name": ".venv",
   "language": "python",
   "name": "python3"
  },
  "language_info": {
   "codemirror_mode": {
    "name": "ipython",
    "version": 3
   },
   "file_extension": ".py",
   "mimetype": "text/x-python",
   "name": "python",
   "nbconvert_exporter": "python",
   "pygments_lexer": "ipython3",
   "version": "3.11.3"
  }
 },
 "nbformat": 4,
 "nbformat_minor": 5
}
