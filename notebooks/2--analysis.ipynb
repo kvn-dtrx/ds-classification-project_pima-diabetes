{
 "cells": [
  {
   "cell_type": "markdown",
   "id": "deff2ba3",
   "metadata": {},
   "source": [
    "# Data Analysis\n",
    "\n",
    "Our analysis of dataset collected to capturing the distribution of type-2 diabetes among female Pima Indian individuals, living near Phoenix, Arizona,"
   ]
  },
  {
   "cell_type": "markdown",
   "id": "7f308ed1",
   "metadata": {},
   "source": [
    "## Setup"
   ]
  },
  {
   "cell_type": "code",
   "execution_count": null,
   "id": "6aee9ea9",
   "metadata": {},
   "outputs": [],
   "source": [
    "import os\n",
    "import subprocess\n",
    "import pandas as pd\n",
    "import numpy as np\n",
    "import seaborn as sns\n",
    "import matplotlib.pyplot as plt\n",
    "from datetime import date\n"
   ]
  },
  {
   "cell_type": "code",
   "execution_count": null,
   "id": "0eb31379",
   "metadata": {},
   "outputs": [],
   "source": [
    "# Path to root directory of the repo.\n",
    "root_dir_ = subprocess.check_output(\n",
    "    [\"git\", \"rev-parse\", \"--show-toplevel\"],\n",
    "    text=True,\n",
    ")\n",
    "ROOT_DIR = root_dir_.strip()\n",
    "# Path to data directory.\n",
    "DATA_DIR = os.path.join(ROOT_DIR, \"data\")\n",
    "# Path from which dataframe will be loaded\n",
    "DF_PKL_PATH_SRC = os.path.join(DATA_DIR, \"df_raw.pkl\") \n",
    "DF_PKL_PATH_TAR = os.path.join(DATA_DIR, \"df_processed.pkl\")\n",
    "DF_PKL_PATH_TAR_ = os.path.join(DATA_DIR, \"df_processed_.pkl\")\n",
    "\n",
    "\n",
    "plt.style.use('tableau-colorblind10')"
   ]
  },
  {
   "cell_type": "markdown",
   "id": "63f8fa5c",
   "metadata": {},
   "source": [
    "## First Inspection"
   ]
  },
  {
   "cell_type": "code",
   "execution_count": null,
   "id": "2b21a445",
   "metadata": {},
   "outputs": [],
   "source": [
    "df.info()"
   ]
  },
  {
   "cell_type": "markdown",
   "id": "93cde4cd",
   "metadata": {},
   "source": [
    "We observe that the dataset contains no missing values, at least formally. \n",
    "\n",
    "Most of the columns data types also look on the first sight.\n",
    "\n",
    "First, a minor column renaming for convenience."
   ]
  },
  {
   "cell_type": "code",
   "execution_count": null,
   "id": "2fe5c175",
   "metadata": {},
   "outputs": [],
   "source": [
    "df = df.rename(columns={\n",
    "    \"Age\": \"age\",\n",
    "    \"diabetespedigreefunction\": \"dpf\",\n",
    "    # We will provide arguments below why \n",
    "    \"outcome\": \"has_diabetes\",\n",
    "    \"measurement_date\": \"date\",\n",
    "})\n",
    "\n",
    "# Sort columns as follows:\n",
    "# id, features lexicographically, target.\n",
    "features_sorted = sorted([col for col in df.columns if col not in [\"id\", \"has_diabetes\"]])\n",
    "cols = [\"id\"] + features_sorted + [\"has_diabetes\"]\n",
    "df = df[cols]\n",
    "\n",
    "cols"
   ]
  },
  {
   "cell_type": "markdown",
   "id": "29766b62",
   "metadata": {},
   "source": [
    "That \"outcome\" very likely encodes \"has_diabetes\", rather than \"has_not_diabetes\", \n",
    "\n",
    "Not clear: To exclude a further possible pitfall, let us examine whether outcome encodes presence or absence of diabetes. It is a well known that adipositas (BMI larger than 30) is inclined to cause a variety of disease, including type-1 diabetes."
   ]
  },
  {
   "cell_type": "code",
   "execution_count": null,
   "id": "4756de26",
   "metadata": {},
   "outputs": [],
   "source": [
    "fig, axes = plt.subplots(1, 2, figsize=(12, 5))  # 1 row, 2 columns\n",
    "\n",
    "# First subplot: Age\n",
    "sns.kdeplot(data=df, x=\"age\", hue=\"has_diabetes\", common_norm=False, ax=axes[0])\n",
    "axes[0].set_title(\"Age Distribution by Diabetes Status\")\n",
    "axes[0].set_xlabel(\"Age\")\n",
    "axes[0].set_ylabel(\"Density\")\n",
    "\n",
    "# Second subplot: Insulin\n",
    "sns.kdeplot(data=df, x=\"bmi\", hue=\"has_diabetes\", common_norm=False, ax=axes[1])\n",
    "axes[1].set_title(\"BMI Distribution by Diabetes Status\")\n",
    "axes[1].set_xlabel(\"BMI\")\n",
    "axes[1].set_ylabel(\"Density\")\n",
    "\n",
    "plt.tight_layout()\n",
    "plt.show()\n"
   ]
  },
  {
   "cell_type": "markdown",
   "id": "0085d994",
   "metadata": {},
   "source": [
    "Also coorect date"
   ]
  },
  {
   "cell_type": "code",
   "execution_count": null,
   "id": "56dd26be",
   "metadata": {},
   "outputs": [],
   "source": [
    "df[\"date\"] = pd.to_datetime(df[\"date\"])"
   ]
  },
  {
   "cell_type": "markdown",
   "id": "7482146c",
   "metadata": {},
   "source": [
    "With the aid of the [accompanying paper](../docs/adap-diabetes.pdf), we may complete the explanative table "
   ]
  },
  {
   "cell_type": "markdown",
   "id": "63bba2ce",
   "metadata": {},
   "source": [
    "| Name | Description |\n",
    "| --- | --- |\n",
    "| id | patient id |\n",
    "| age | age in y |\n",
    "| bloodpressure | diastolic blood pressure in mm Hg |\n",
    "| bmi | body-mass index in kg / m^2 |\n",
    "| date | date of measurement |\n",
    "| dpf | diabetes pedigree function (further explanation below) |\n",
    "| glucose | plasma glucose concentration at 2 h in an oral glucose tolerance test (GTIT) |\n",
    "| has_diabetes | whether developed type-1 diabetes within 5 years |\n",
    "| insulin | 2 h serum insulin in Uh/ml |\n",
    "| pregnancies | number of pregnancies |\n",
    "| skinthickness | triceps skin fold thickness in mm | "
   ]
  },
  {
   "cell_type": "code",
   "execution_count": null,
   "id": "2af27a97",
   "metadata": {},
   "outputs": [],
   "source": [
    "def get_summary(description, data):\n",
    "    summary = {\n",
    "        \"description\": description,\n",
    "        \"mean\": np.mean(data),\n",
    "        \"median\": np.median(data),\n",
    "        \"std\": np.std(data),\n",
    "        \"count\": len(data)\n",
    "    }\n",
    "    return summary\n",
    "\n",
    "stats = [\n",
    "    get_summary(\"All\", df[\"has_diabetes\"]),\n",
    "    get_summary(\"No Diabetes\", df[df[\"has_diabetes\"] == 0][\"dpf\"]),\n",
    "    get_summary(\"Diabetes\", df[df[\"has_diabetes\"] == 1][\"dpf\"]),\n",
    "]\n",
    "\n",
    "summary_df = pd.DataFrame(stats)\n",
    "print(summary_df)"
   ]
  },
  {
   "cell_type": "markdown",
   "id": "bf18c821",
   "metadata": {},
   "source": [
    "Feature Distributions"
   ]
  },
  {
   "cell_type": "code",
   "execution_count": null,
   "id": "34f2f2e2",
   "metadata": {},
   "outputs": [],
   "source": [
    "cols = [col for col in df.columns if col not in [\"id\", \"has_diabetes\"]]\n",
    "\n",
    "fig, axes = plt.subplots(5, 2, figsize=(12, 20))\n",
    "axes = axes.flatten()\n",
    "\n",
    "for i, col in enumerate(cols):\n",
    "    ax = axes[i]\n",
    "\n",
    "    sns.histplot(data=df, x=col, ax=ax, color=\"black\", linestyle=\"--\")\n",
    "\n",
    "    ax.set_title(col)\n",
    "    # ax.legend()\n",
    "\n",
    "plt.tight_layout()\n",
    "plt.show()"
   ]
  },
  {
   "cell_type": "markdown",
   "id": "40333b96",
   "metadata": {},
   "source": [
    "Saliences we want to address in the following section:\n",
    "\n",
    "- (Very likely) zero-encoded NULL values for BMI, insulin and skinthickness.\n",
    "- Exotic blood pressure values\n",
    "- Two measurement days\n",
    "- Two dates"
   ]
  },
  {
   "cell_type": "markdown",
   "id": "11176ade",
   "metadata": {},
   "source": [
    "## The Insidious Data Duplication\n",
    "\n"
   ]
  },
  {
   "cell_type": "code",
   "execution_count": null,
   "id": "46e05349",
   "metadata": {},
   "outputs": [],
   "source": [
    "df.nunique()"
   ]
  },
  {
   "cell_type": "code",
   "execution_count": null,
   "id": "0519d8cb",
   "metadata": {},
   "outputs": [],
   "source": [
    "df[\"date\"].unique()"
   ]
  },
  {
   "cell_type": "markdown",
   "id": "03f805bd",
   "metadata": {},
   "source": [
    "During the discussion of the exercise, it was revealed that we shall remove all rows subject to the date 2022-12-01. It was claimed that they were synthetic.\n",
    "\n",
    "But as it turns out, it is not that easy. It is not the case that the dataset was simply duplicated. We do not share the opinion of the instructors that this fact is obvious after a perusal of the accompanying paper:\n",
    "\n",
    "A more careful shows that the \"difference data frame\" is not identically zero: The bloodpressure and glucose difference appear to have a bell shape distribution, respectively, the insulin difference is skewed.\n",
    "\n",
    "In our opinion, these manipulations are not detectable eo ipso with absolute certainty, and are beyond , particularly as the analysist must put some minimal amount of trust in the integrity of the provided data.\n",
    "\n",
    "He definitively "
   ]
  },
  {
   "cell_type": "markdown",
   "id": "46899ead",
   "metadata": {},
   "source": [
    "We outsourced the sketch. Let us dump the data frame "
   ]
  },
  {
   "cell_type": "code",
   "execution_count": null,
   "id": "2bffe50d",
   "metadata": {},
   "outputs": [],
   "source": [
    "df.to_pickle(DF_PKL_PATH_TAR_)"
   ]
  },
  {
   "cell_type": "markdown",
   "id": "6250268f",
   "metadata": {},
   "source": [
    "In this notebook, we continue the analysis and address the problem of missing values"
   ]
  },
  {
   "cell_type": "code",
   "execution_count": null,
   "id": "48a9a15d",
   "metadata": {},
   "outputs": [],
   "source": [
    "df = df[df[\"date\"] != \"2022-12-01\"]"
   ]
  },
  {
   "cell_type": "code",
   "execution_count": null,
   "id": "adff5029",
   "metadata": {},
   "outputs": [],
   "source": [
    "df.info()"
   ]
  },
  {
   "cell_type": "markdown",
   "id": "0bb85169",
   "metadata": {},
   "source": [
    "## Missing Values\n",
    "\n",
    "In this "
   ]
  },
  {
   "cell_type": "markdown",
   "id": "213e810e",
   "metadata": {},
   "source": [
    "### BMI"
   ]
  },
  {
   "cell_type": "code",
   "execution_count": null,
   "id": "e498c4c5",
   "metadata": {},
   "outputs": [],
   "source": [
    "BMI_LOWER = 10\n",
    "df.loc[df[\"bmi\"] <= BMI_LOWER, \"bmi\"] = np.nan\n",
    "\n",
    "df[\"bmi\"].isna().sum()"
   ]
  },
  {
   "cell_type": "markdown",
   "id": "b2ac329c",
   "metadata": {},
   "source": [
    "### Skin Thickness"
   ]
  },
  {
   "cell_type": "code",
   "execution_count": null,
   "id": "a04b8489",
   "metadata": {},
   "outputs": [],
   "source": [
    "SKINTHICKNESS_LOWER = 2.5\n",
    "df.loc[df[\"skinthickness\"] <= SKINTHICKNESS_LOWER, \"skinthickness\"] = np.nan\n",
    "\n",
    "df[\"skinthickness\"].isna().sum()  # count of NaNs"
   ]
  },
  {
   "cell_type": "markdown",
   "id": "0f6bf35f",
   "metadata": {},
   "source": [
    "By the way, we have BMI"
   ]
  },
  {
   "cell_type": "code",
   "execution_count": null,
   "id": "b420aff3",
   "metadata": {},
   "outputs": [],
   "source": [
    "df[\"bmi\"].corr(df[\"skinthickness\"])"
   ]
  },
  {
   "cell_type": "code",
   "execution_count": null,
   "id": "cef54895",
   "metadata": {},
   "outputs": [],
   "source": [
    "if \"skinthickness\" in df.columns:\n",
    "    df = df.drop(columns=\"skinthickness\")"
   ]
  },
  {
   "cell_type": "markdown",
   "id": "bb71d2ba",
   "metadata": {},
   "source": [
    "### Insulin"
   ]
  },
  {
   "cell_type": "code",
   "execution_count": null,
   "id": "06983de8",
   "metadata": {},
   "outputs": [],
   "source": [
    "INSULIN_LOWER = 10\n",
    "\n",
    "df_tmp = df[df[\"insulin\"] <= INSULIN_LOWER]\n",
    "\n",
    "fig, ax = plt.subplots(figsize=(6, 4))\n",
    "sns.histplot(data=df_tmp, x=\"insulin\", ax=ax, color=\"black\", linestyle=\"--\")\n",
    "ax.set_title(\"Insulin\")\n",
    "\n",
    "plt.tight_layout()\n",
    "plt.show()"
   ]
  },
  {
   "cell_type": "markdown",
   "id": "6e61efc5",
   "metadata": {},
   "source": [
    "Insulin is integer, although it is a continuous quantitu. Veyr likely values are rounded. Values close above zero are not unusual. Therefore, cannot say which of the zero values are round down or falsely encoded Null values. Leave them as they stand."
   ]
  },
  {
   "cell_type": "markdown",
   "id": "e6d00575",
   "metadata": {},
   "source": [
    "### Blood Pressure"
   ]
  },
  {
   "cell_type": "code",
   "execution_count": null,
   "id": "41273803",
   "metadata": {},
   "outputs": [],
   "source": [
    "BLOODPRESSURE_LOWER = 30\n",
    "df.loc[df[\"bloodpressure\"] <= BLOODPRESSURE_LOWER, \"bloodpressure\"] = np.nan\n",
    "\n",
    "df[\"bloodpressure\"].isna().sum()"
   ]
  },
  {
   "cell_type": "markdown",
   "id": "3fe0506e",
   "metadata": {},
   "source": [
    "# Final At Polished Data\n",
    "\n"
   ]
  },
  {
   "cell_type": "code",
   "execution_count": null,
   "id": "26d0453e",
   "metadata": {},
   "outputs": [],
   "source": [
    "df.to_pickle(DF_PKL_PATH_TAR)"
   ]
  }
 ],
 "metadata": {
  "kernelspec": {
   "display_name": ".venv",
   "language": "python",
   "name": "python3"
  },
  "language_info": {
   "codemirror_mode": {
    "name": "ipython",
    "version": 3
   },
   "file_extension": ".py",
   "mimetype": "text/x-python",
   "name": "python",
   "nbconvert_exporter": "python",
   "pygments_lexer": "ipython3",
   "version": "3.11.3"
  }
 },
 "nbformat": 4,
 "nbformat_minor": 5
}
