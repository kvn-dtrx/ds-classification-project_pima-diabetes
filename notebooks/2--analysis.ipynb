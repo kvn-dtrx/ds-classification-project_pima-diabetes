{
 "cells": [
  {
   "cell_type": "markdown",
   "id": "deff2ba3",
   "metadata": {},
   "source": [
    "# Data Analysis\n",
    "\n",
    "Our analysis of dataset collected to capturing the distribution of type-2 diabetes among female Pima Indian individuals, living near Phoenix, Arizona,"
   ]
  },
  {
   "cell_type": "markdown",
   "id": "7f308ed1",
   "metadata": {},
   "source": [
    "## Setup"
   ]
  },
  {
   "cell_type": "code",
   "execution_count": null,
   "id": "6aee9ea9",
   "metadata": {},
   "outputs": [],
   "source": [
    "import os\n",
    "import subprocess\n",
    "import pandas as pd\n",
    "import numpy as np\n",
    "import seaborn as sns\n",
    "import matplotlib.pyplot as plt\n",
    "from datetime import date\n"
   ]
  },
  {
   "cell_type": "code",
   "execution_count": null,
   "id": "0eb31379",
   "metadata": {},
   "outputs": [],
   "source": [
    "# Path to root directory of the repo.\n",
    "root_dir_ = subprocess.check_output(\n",
    "    [\"git\", \"rev-parse\", \"--show-toplevel\"],\n",
    "    text=True,\n",
    ")\n",
    "ROOT_DIR = root_dir_.strip()\n",
    "# Path to data directory.\n",
    "DATA_DIR = os.path.join(ROOT_DIR, \"data\")\n",
    "# Path from which dataframe will be loaded\n",
    "DF_PKL_PATH_SRC = os.path.join(DATA_DIR, \"df_raw.pkl\") \n",
    "DF_PKL_PATH_TAR = os.path.join(DATA_DIR, \"df_processed.pkl\") "
   ]
  },
  {
   "cell_type": "code",
   "execution_count": null,
   "id": "507a1c5d",
   "metadata": {},
   "outputs": [],
   "source": [
    "df = pd.read_pickle(DF_PKL_PATH_SRC)"
   ]
  },
  {
   "cell_type": "markdown",
   "id": "07faba24",
   "metadata": {},
   "source": [
    "## First Inspection"
   ]
  },
  {
   "cell_type": "code",
   "execution_count": null,
   "id": "d70d4b33",
   "metadata": {},
   "outputs": [],
   "source": [
    "df.info()"
   ]
  },
  {
   "cell_type": "markdown",
   "id": "f0bd7540",
   "metadata": {},
   "source": [
    "We observe that the dataset contains no missing values, at least formally. \n",
    "\n",
    "Most of the columns data types also look on the first sight.\n",
    "\n",
    "First, a minor column renaming for convenience."
   ]
  },
  {
   "cell_type": "code",
   "execution_count": null,
   "id": "3077e4c2",
   "metadata": {},
   "outputs": [],
   "source": [
    "df = df.rename(columns={\n",
    "    \"Age\": \"age\",\n",
    "    \"diabetespedigreefunction\": \"dpfunction\",\n",
    "    # We will provide arguments below why \n",
    "    \"outcome\": \"has_diabetes\",\n",
    "    \"measurement_date\": \"date\",\n",
    "})"
   ]
  },
  {
   "cell_type": "markdown",
   "id": "9f310b4b",
   "metadata": {},
   "source": [
    "That \"outcome\" very likely encodes \"has_diabetes\", rather than \"has_not_diabetes\", \n",
    "\n",
    "Not clear: To exclude a further possible pitfall, let us examine whether outcome encodes presence or absence of diabetes. It is a well known that adipositas (BMI larger than 30) is inclined to cause a variety of disease, including type-1 diabetes."
   ]
  },
  {
   "cell_type": "code",
   "execution_count": null,
   "id": "6bd7f621",
   "metadata": {},
   "outputs": [],
   "source": [
    "fig, axes = plt.subplots(1, 2, figsize=(12, 5))  # 1 row, 2 columns\n",
    "\n",
    "# First subplot: Age\n",
    "sns.kdeplot(data=df, x=\"age\", hue=\"has_diabetes\", common_norm=False, ax=axes[0])\n",
    "axes[0].set_title(\"Age Distribution by Diabetes Status\")\n",
    "axes[0].set_xlabel(\"Age\")\n",
    "axes[0].set_ylabel(\"Density\")\n",
    "\n",
    "# Second subplot: Insulin\n",
    "sns.kdeplot(data=df, x=\"bmi\", hue=\"has_diabetes\", common_norm=False, ax=axes[1])\n",
    "axes[1].set_title(\"BMI Distribution by Diabetes Status\")\n",
    "axes[1].set_xlabel(\"BMI\")\n",
    "axes[1].set_ylabel(\"Density\")\n",
    "\n",
    "plt.tight_layout()\n",
    "plt.show()\n"
   ]
  },
  {
   "cell_type": "markdown",
   "id": "f4fa8b6d",
   "metadata": {},
   "source": [
    "Also coorect date"
   ]
  },
  {
   "cell_type": "code",
   "execution_count": null,
   "id": "ab53887c",
   "metadata": {},
   "outputs": [],
   "source": [
    "df[\"date\"] = pd.to_datetime(df[\"date\"])"
   ]
  },
  {
   "cell_type": "markdown",
   "id": "74721f81",
   "metadata": {},
   "source": [
    "With the aid of the [accompanying paper](../docs/adap-diabetes.pdf), we may complete the explanative table "
   ]
  },
  {
   "cell_type": "markdown",
   "id": "ade7dec9",
   "metadata": {},
   "source": [
    "| Name | Description |\n",
    "| --- | --- |\n",
    "| id | patient id |\n",
    "| age | age in y |\n",
    "| pregnancies | number of pregnancies |\n",
    "| bmi | body-mass index in kg / m^2 |\n",
    "| insulin | 2 h serum insulin in Uh/ml |\n",
    "| glucose | plasma glucose concentration at 2 h in an oral glucose tolerance test (GTIT) |\n",
    "| bloodpressure | diastolic blood pressure in mm Hg |\n",
    "| date | date of measurement |\n",
    "| dpf | diabetes pedigree function (further explanation below) |\n",
    "| has_diabetes | whether developed type-1 diabetes within 5 years |\n",
    "| skinthickness | triceps skin fold thickness in mm | "
   ]
  },
  {
   "cell_type": "markdown",
   "id": "cb19dbb0",
   "metadata": {},
   "source": [
    "An additional remark to the diabetes pedigree function (DPF): It is a formulate to calculate a score for the likelihood of having diabetes.\n",
    "\n",
    "Let us outline on which variable the dpf depends and whether the dependence is isotone (\"increase leads to increase\") or antitome (\"increase leads to decrease\"):\n",
    "\n",
    "- Number of relatives with diabetes (isotone)\n",
    "  - Age at which relatives developed (antitone)\n",
    "  - Percentage of shared genes (isotone)\n",
    "- Number of relatives without diabetes (antitone)\n",
    "  - Age of their last examination (isotone)\n",
    "  - Percentage of shared genes (antitone)"
   ]
  },
  {
   "cell_type": "markdown",
   "id": "5a19ef92",
   "metadata": {},
   "source": [
    "Feature Distributions"
   ]
  },
  {
   "cell_type": "code",
   "execution_count": null,
   "id": "f3194a51",
   "metadata": {},
   "outputs": [],
   "source": [
    "cols = [col for col in df.columns if col not in [\"id\", \"has_diabetes\"]]\n",
    "\n",
    "fig, axes = plt.subplots(5, 2, figsize=(12, 20))\n",
    "axes = axes.flatten()\n",
    "\n",
    "for i, col in enumerate(cols):\n",
    "    ax = axes[i]\n",
    "\n",
    "    sns.histplot(data=df, x=col, ax=ax, color=\"black\", linestyle=\"--\")\n",
    "\n",
    "    ax.set_title(col)\n",
    "    # ax.legend()\n",
    "\n",
    "plt.tight_layout()\n",
    "plt.show()"
   ]
  },
  {
   "cell_type": "markdown",
   "id": "7d158b40",
   "metadata": {},
   "source": [
    "Saliences we want to address in the following section:\n",
    "\n",
    "- (Very likely) zero-encoded NULL values for BMI, insulin and skinthickness.\n",
    "- Exotic blood pressure values\n",
    "- Two measurement days"
   ]
  },
  {
   "cell_type": "markdown",
   "id": "02c14846",
   "metadata": {},
   "source": [
    "## Missing Values\n",
    "\n",
    "In this "
   ]
  },
  {
   "cell_type": "markdown",
   "id": "b9235c4c",
   "metadata": {},
   "source": [
    "### BMI"
   ]
  },
  {
   "cell_type": "code",
   "execution_count": null,
   "id": "f61d37d1",
   "metadata": {},
   "outputs": [],
   "source": [
    "BMI_LOWER = 10\n",
    "df.loc[df[\"bmi\"] <= BMI_LOWER, \"bmi\"] = np.nan\n",
    "\n",
    "df[\"bmi\"].isna().sum()"
   ]
  },
  {
   "cell_type": "markdown",
   "id": "b91d1f28",
   "metadata": {},
   "source": [
    "### Skin Thickness"
   ]
  },
  {
   "cell_type": "code",
   "execution_count": null,
   "id": "4e222f66",
   "metadata": {},
   "outputs": [],
   "source": [
    "SKINTHICKNESS_LOWER = 2.5\n",
    "df.loc[df[\"skinthickness\"] <= SKINTHICKNESS_LOWER, \"skinthickness\"] = np.nan\n",
    "\n",
    "df[\"skinthickness\"].isna().sum()  # count of NaNs"
   ]
  },
  {
   "cell_type": "markdown",
   "id": "90bd9aa6",
   "metadata": {},
   "source": [
    "By the way, we have BMI"
   ]
  },
  {
   "cell_type": "code",
   "execution_count": null,
   "id": "ce5f7918",
   "metadata": {},
   "outputs": [],
   "source": [
    "df[\"bmi\"].corr(df[\"skinthickness\"])"
   ]
  },
  {
   "cell_type": "code",
   "execution_count": null,
   "id": "ae142b48",
   "metadata": {},
   "outputs": [],
   "source": [
    "if \"skinthickness\" in df.columns:\n",
    "    df = df.drop(columns=\"skinthickness\")"
   ]
  },
  {
   "cell_type": "markdown",
   "id": "bd260097",
   "metadata": {},
   "source": [
    "### Insulin"
   ]
  },
  {
   "cell_type": "code",
   "execution_count": null,
   "id": "6bf97001",
   "metadata": {},
   "outputs": [],
   "source": [
    "INSULIN_LOWER = 10\n",
    "\n",
    "df_tmp = df[df[\"insulin\"] <= INSULIN_LOWER]\n",
    "\n",
    "fig, ax = plt.subplots(figsize=(6, 4))\n",
    "sns.histplot(data=df_tmp, x=\"insulin\", ax=ax, color=\"black\", linestyle=\"--\")\n",
    "ax.set_title(\"Insulin\")\n",
    "\n",
    "plt.tight_layout()\n",
    "plt.show()"
   ]
  },
  {
   "cell_type": "markdown",
   "id": "55e0af0c",
   "metadata": {},
   "source": [
    "Insulin is integer, although it is a continuous quantitu. Veyr likely values are rounded. Values close above zero are not unusual. Therefore, cannot say which of the zero values are round down or falsely encoded Null values. Leave them as they stand."
   ]
  },
  {
   "cell_type": "markdown",
   "id": "1cf7d6f2",
   "metadata": {},
   "source": [
    "### Blood Pressure"
   ]
  },
  {
   "cell_type": "code",
   "execution_count": null,
   "id": "7c3c1dd2",
   "metadata": {},
   "outputs": [],
   "source": [
    "BLOODPRESSURE_LOWER = 30\n",
    "df.loc[df[\"bloodpressure\"] <= BLOODPRESSURE_LOWER, \"bloodpressure\"] = np.nan\n",
    "\n",
    "df[\"bloodpressure\"].isna().sum()"
   ]
  },
  {
   "cell_type": "markdown",
   "id": "712a70a2",
   "metadata": {},
   "source": [
    "## Date of Measurement"
   ]
  },
  {
   "cell_type": "code",
   "execution_count": null,
   "id": "d663f371",
   "metadata": {},
   "outputs": [],
   "source": [
    "df.nunique()"
   ]
  },
  {
   "cell_type": "code",
   "execution_count": null,
   "id": "ada3d6eb",
   "metadata": {},
   "outputs": [],
   "source": [
    "df[\"date\"].unique()"
   ]
  },
  {
   "cell_type": "markdown",
   "id": "524c3cca",
   "metadata": {},
   "source": [
    "We see we have only 768 different ids but 1536 (2 * 768) columns. The paper also only mentions 768 examinations. But we have two dates of measurement. Therefore, tt could be possible that each patient was examined at two different times"
   ]
  },
  {
   "cell_type": "code",
   "execution_count": null,
   "id": "3fa642db",
   "metadata": {},
   "outputs": [],
   "source": [
    "# Series with number of dates per id.\n",
    "s = df.groupby(\"id\")[\"date\"].nunique()\n",
    "\n",
    "# Unique values in this series.\n",
    "s.unique()"
   ]
  },
  {
   "cell_type": "markdown",
   "id": "f0599519",
   "metadata": {},
   "source": [
    "We can conclude that for each patient, are exactly two measurement recorded, one on 2022-12-01 and the other on 2022-12-13.\n",
    "\n"
   ]
  },
  {
   "cell_type": "code",
   "execution_count": null,
   "id": "73e7be19",
   "metadata": {},
   "outputs": [],
   "source": [
    "df_wide = df.sort_values([\"id\", \"date\"])  # ensure correct order\n",
    "df_wide[\"rank\"] = df_wide.groupby(\"id\").cumcount()\n",
    "\n",
    "df_wide = df_wide.pivot(index=\"id\", columns=\"rank\")\n",
    "df_wide.columns = [f\"{order}_{col}\" for col, order in df_wide.columns]\n",
    "df_wide = df_wide.reset_index()\n",
    "\n",
    "df_wide.nunique()"
   ]
  },
  {
   "cell_type": "code",
   "execution_count": null,
   "id": "200f249f",
   "metadata": {},
   "outputs": [],
   "source": [
    "# Extract column suffixes shared by 0_ and 1_ columns\n",
    "suffixes = [col[2:] for col in df_wide.columns if col.startswith(\"0_\")]\n",
    "suffixes = [s for s in suffixes if f\"1_{s}\" in df_wide.columns]\n",
    "\n",
    "# Subtract matching columns\n",
    "df_diff = df_wide[[f\"1_{s}\" for s in suffixes]].values - df_wide[[f\"0_{s}\" for s in suffixes]].values\n",
    "\n",
    "# Construct new DataFrame with diff_ column names\n",
    "df_diff = pd.DataFrame(df_diff, columns=[f\"diff_{s}\" for s in suffixes])\n",
    "df_diff.insert(0, \"id\", df_wide[\"id\"])"
   ]
  },
  {
   "cell_type": "code",
   "execution_count": null,
   "id": "b5446b6b",
   "metadata": {},
   "outputs": [],
   "source": [
    "df_diff.sample(10)"
   ]
  },
  {
   "cell_type": "code",
   "execution_count": null,
   "id": "d20af2c0",
   "metadata": {},
   "outputs": [],
   "source": [
    "if \"date\" in df.columns:\n",
    "    df = df.drop(columns=\"date\")"
   ]
  },
  {
   "cell_type": "markdown",
   "id": "a73e2e92",
   "metadata": {},
   "source": [
    "Correlation Matrix"
   ]
  },
  {
   "cell_type": "code",
   "execution_count": null,
   "id": "ae1ddb5b",
   "metadata": {},
   "outputs": [],
   "source": [
    "df_ = df.drop(columns=[\"id\"])\n",
    "corr = df_.corr()\n",
    "\n",
    "sns.heatmap(corr, annot=True, fmt=\".2f\", square=True)\n",
    "plt.title(\"Correlation Matrix\")\n",
    "plt.show()"
   ]
  },
  {
   "cell_type": "code",
   "execution_count": null,
   "id": "17f53a7f",
   "metadata": {},
   "outputs": [],
   "source": [
    "df.to_pickle(DF_PKL_PATH_TAR)"
   ]
  }
 ],
 "metadata": {
  "kernelspec": {
   "display_name": ".venv",
   "language": "python",
   "name": "python3"
  },
  "language_info": {
   "codemirror_mode": {
    "name": "ipython",
    "version": 3
   },
   "file_extension": ".py",
   "mimetype": "text/x-python",
   "name": "python",
   "nbconvert_exporter": "python",
   "pygments_lexer": "ipython3",
   "version": "3.11.3"
  }
 },
 "nbformat": 4,
 "nbformat_minor": 5
}
