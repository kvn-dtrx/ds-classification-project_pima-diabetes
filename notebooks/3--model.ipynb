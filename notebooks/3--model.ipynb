{
 "cells": [
  {
   "cell_type": "markdown",
   "id": "c89ed039",
   "metadata": {},
   "source": [
    "# Prediction Model"
   ]
  },
  {
   "cell_type": "code",
   "execution_count": null,
   "id": "1ff5c935",
   "metadata": {},
   "outputs": [],
   "source": [
    "import os\n",
    "import subprocess\n",
    "\n",
    "import pandas as pd\n",
    "import numpy as np\n",
    "\n",
    "from sklearn.model_selection import train_test_split\n",
    "from sklearn.linear_model import LogisticRegression\n",
    "from sklearn.metrics import mean_squared_error\n",
    "from sklearn.metrics import r2_score\n",
    "from sklearn.metrics import mean_absolute_percentage_error\n",
    "\n",
    "import matplotlib.pyplot as plt\n",
    "import seaborn as sns"
   ]
  },
  {
   "cell_type": "code",
   "execution_count": null,
   "id": "de586a00",
   "metadata": {},
   "outputs": [],
   "source": [
    "RSEED = 42\n",
    "\n",
    "# Path to root directory of the repo.\n",
    "root_dir_ = subprocess.check_output(\n",
    "    [\"git\", \"rev-parse\", \"--show-toplevel\"],\n",
    "    text=True,\n",
    ")\n",
    "ROOT_DIR = root_dir_.strip()\n",
    "\n",
    "# Path to data directory.\n",
    "DATA_DIR = os.path.join(ROOT_DIR, \"data\")\n",
    "\n",
    "# Paths from which the data frame will be loaded.\n",
    "DF_PKL_PATH_SRC = os.path.join(DATA_DIR, \"df_processed.pkl\")"
   ]
  },
  {
   "cell_type": "code",
   "execution_count": null,
   "id": "c6860486",
   "metadata": {},
   "outputs": [],
   "source": [
    "df = pd.read_pickle(DF_PKL_PATH_SRC)\n",
    "df = df.fillna(0)\n"
   ]
  },
  {
   "cell_type": "code",
   "execution_count": null,
   "id": "96d289e3",
   "metadata": {},
   "outputs": [],
   "source": [
    "y_col = \"has_diabetes\"\n",
    "X_cols = [col for col in df.columns if col != y_col]\n",
    "\n",
    "X = df[X_cols]\n",
    "y = df[y_col]\n",
    "\n",
    "X_train, X_test, y_train, y_test = train_test_split(\n",
    "    X, y, test_size=0.20, random_state=RSEED\n",
    ")\n",
    "\n",
    "model = LogisticRegression()\n",
    "\n",
    "model.fit(X_train, y_train)\n",
    "\n",
    "print(\"Fitted parameters:\")\n",
    "print(\"  Coefficients:\", model.coef_)\n",
    "print(\"  Intercept:   \", model.intercept_)"
   ]
  },
  {
   "cell_type": "code",
   "execution_count": null,
   "id": "1cdeb00b",
   "metadata": {},
   "outputs": [],
   "source": [
    "z_test = model.predict(X_test)\n",
    "\n",
    "mse = mean_squared_error(y_test, z_test)\n",
    "rmse = np.sqrt(mse)\n",
    "r2 = r2_score(y_test, z_test)\n",
    "mape = mean_absolute_percentage_error(y_test, z_test)\n",
    "\n",
    "print(\"Model Evaluation:\")\n",
    "print(f\"  RMSE : {rmse}\")\n",
    "print(f\"  R_2  : {r2}\")\n",
    "print(f\"  MAPE : {mape}\")"
   ]
  },
  {
   "cell_type": "code",
   "execution_count": null,
   "id": "54045817",
   "metadata": {},
   "outputs": [],
   "source": [
    "t = 1000\n",
    "\n",
    "plt.figure(figsize=(8, 6))\n",
    "sns.scatterplot(x=y_test, y=z_test)\n",
    "plt.plot([0, t], [0, t], color='red', linestyle='--')\n",
    "plt.xlabel(\"Actual Values\")\n",
    "plt.ylabel(\"Predicted Values\")\n",
    "plt.xlim(0, 3000)\n",
    "plt.title(\"Residuals Plot\")\n",
    "plt.show()"
   ]
  }
 ],
 "metadata": {
  "kernelspec": {
   "display_name": ".venv",
   "language": "python",
   "name": "python3"
  },
  "language_info": {
   "codemirror_mode": {
    "name": "ipython",
    "version": 3
   },
   "file_extension": ".py",
   "mimetype": "text/x-python",
   "name": "python",
   "nbconvert_exporter": "python",
   "pygments_lexer": "ipython3",
   "version": "3.11.3"
  }
 },
 "nbformat": 4,
 "nbformat_minor": 5
}
