{
 "cells": [
  {
   "cell_type": "markdown",
   "id": "c89ed039",
   "metadata": {},
   "source": [
    "# Prediction Model"
   ]
  },
  {
   "cell_type": "code",
   "execution_count": null,
   "id": "1ff5c935",
   "metadata": {},
   "outputs": [],
   "source": [
    "import os\n",
    "import subprocess\n",
    "\n",
    "import pandas as pd\n",
    "import numpy as np\n",
    "\n",
    "from imblearn.over_sampling import RandomOverSampler\n",
    "from sklearn.preprocessing import MinMaxScaler\n",
    "\n",
    "from sklearn.model_selection import (\n",
    "    train_test_split,\n",
    "    GridSearchCV,\n",
    "    cross_validate,\n",
    "    cross_val_predict,\n",
    ")\n",
    "from sklearn.linear_model import LogisticRegression\n",
    "from sklearn.tree import DecisionTreeClassifier\n",
    "from sklearn.metrics import mean_squared_error\n",
    "from sklearn.metrics import r2_score\n",
    "from sklearn.metrics import mean_absolute_percentage_error\n",
    "\n",
    "import matplotlib.pyplot as plt\n",
    "import seaborn as sns"
   ]
  },
  {
   "cell_type": "code",
   "execution_count": null,
   "id": "de586a00",
   "metadata": {},
   "outputs": [],
   "source": [
    "RSEED = 42\n",
    "\n",
    "# Path to root directory of the repo.\n",
    "root_dir_ = subprocess.check_output(\n",
    "    [\"git\", \"rev-parse\", \"--show-toplevel\"],\n",
    "    text=True,\n",
    ")\n",
    "ROOT_DIR = root_dir_.strip()\n",
    "\n",
    "# Path to data directory.\n",
    "DATA_DIR = os.path.join(ROOT_DIR, \"data\")\n",
    "\n",
    "# Paths from which the data frame will be loaded.\n",
    "DF_PKL_PATH_SRC = os.path.join(DATA_DIR, \"df_processed.pkl\")"
   ]
  },
  {
   "cell_type": "code",
   "execution_count": null,
   "id": "c6860486",
   "metadata": {},
   "outputs": [],
   "source": [
    "df = pd.read_pickle(DF_PKL_PATH_SRC)\n",
    "df = df.fillna(0)"
   ]
  },
  {
   "cell_type": "code",
   "execution_count": null,
   "id": "96d289e3",
   "metadata": {},
   "outputs": [],
   "source": [
    "y_col = \"has_diabetes\"\n",
    "X_cols = [col for col in df.columns if col != y_col]\n",
    "\n",
    "X = df[X_cols]\n",
    "y = df[y_col]\n",
    "\n",
    "X_0, X_1, y_0, y_1 = train_test_split(\n",
    "    X, y, test_size=0.25, random_state=RSEED, stratify=df[y_col]\n",
    ")"
   ]
  },
  {
   "cell_type": "markdown",
   "id": "8fcc4e91",
   "metadata": {},
   "source": [
    "## Simple Logistic Regression Model"
   ]
  },
  {
   "cell_type": "code",
   "execution_count": null,
   "id": "2d2229e3",
   "metadata": {},
   "outputs": [],
   "source": [
    "scaler = MinMaxScaler()\n",
    "X_0_scaled = scaler.fit_transform(X_0)\n",
    "X_1_scaled = scaler.transform(X_1)\n",
    "X_1_scaled = pd.DataFrame(X_1_scaled, columns=X_1.columns)\n"
   ]
  },
  {
   "cell_type": "code",
   "execution_count": null,
   "id": "09dd2c50",
   "metadata": {},
   "outputs": [],
   "source": [
    "ros = RandomOverSampler(random_state=42)\n",
    "X_0_scaled_ros, y_0_ros = ros.fit_resample(X_0_scaled, y_0)\n",
    "X_0_scaled_ros = pd.DataFrame(X_0_scaled_ros, columns=X_0.columns)\n"
   ]
  },
  {
   "cell_type": "code",
   "execution_count": null,
   "id": "39d10365",
   "metadata": {},
   "outputs": [],
   "source": [
    "# Define dictionary with several interesting metrics\n",
    "# scorer_dict = {\"ftwo_scorer\": make_scorer(fbeta_score, beta=2), \"accuracy\": \"accuracy\", \"precision\": \"precision\", \"recall\": \"recall\"}"
   ]
  },
  {
   "cell_type": "code",
   "execution_count": null,
   "id": "001b78e3",
   "metadata": {},
   "outputs": [],
   "source": [
    "model = LogisticRegression()\n",
    "\n",
    "model.fit(X_0_scaled_ros[[\"age\", \"bmi\"]], y_0_ros)\n",
    "\n",
    "print(\"Fitted parameters:\")\n",
    "print(f\"  Coefficients : {model.coef_}\")\n",
    "print(f\"  Intercept    : {model.intercept_}\")"
   ]
  },
  {
   "cell_type": "code",
   "execution_count": null,
   "id": "1cdeb00b",
   "metadata": {},
   "outputs": [],
   "source": [
    "z_1 = model.predict(X_1_scaled[[\"age\", \"bmi\"]])\n",
    "\n",
    "mse = mean_squared_error(y_1, z_1)\n",
    "rmse = np.sqrt(mse)\n",
    "r2 = r2_score(y_1, z_1)\n",
    "mape = mean_absolute_percentage_error(y_1, z_1)\n",
    "\n",
    "print(\"Model Evaluation:\")\n",
    "print(f\"  RMSE : {rmse}\")\n",
    "print(f\"  R_2  : {r2}\")\n",
    "print(f\"  MAPE : {mape}\")"
   ]
  },
  {
   "cell_type": "code",
   "execution_count": null,
   "id": "54045817",
   "metadata": {},
   "outputs": [],
   "source": [
    "# Combine into a DataFrame for plotting\n",
    "df_plot = X_1_scaled[[\"age\", \"bmi\"]].copy()\n",
    "df_plot[\"factual_diabetes\"] = y_1\n",
    "df_plot[\"predicted_diabetes\"] = z_1\n",
    "\n",
    "def classify_outcome(row):\n",
    "    if row[\"factual_diabetes\"] == 1:\n",
    "        if row[\"predicted_diabetes\"] == 1:\n",
    "            return \"TP\"\n",
    "        else:\n",
    "            return \"FN\"\n",
    "    else:\n",
    "        if row[\"predicted_diabetes\"] == 1:\n",
    "            return \"FP\"\n",
    "        else:\n",
    "            return \"TN\"\n",
    "\n",
    "\n",
    "df_plot[\"outcome\"] = df_plot.apply(classify_outcome, axis=1)\n",
    "\n",
    "\n",
    "df_plot_orig = df_plot.copy()\n",
    "df_plot_orig[[\"age\", \"bmi\"]] = scaler.inverse_transform(df_plot[[\"age\", \"bmi\"]])\n",
    "\n",
    "plt.figure(figsize=(8, 6))\n",
    "sns.scatterplot(\n",
    "    data=df_plot_orig,\n",
    "    x=\"age\",\n",
    "    y=\"bmi\",\n",
    "    hue=\"outcome\",\n",
    "    palette={\"TP\": \"green\", \"TN\": \"blue\", \"FP\": \"red\", \"FN\": \"orange\"},\n",
    "    s=70\n",
    ")\n",
    "plt.xlabel(\"Age (years)\")\n",
    "plt.ylabel(\"BMI (kg/m²)\")\n",
    "plt.title(\"Classification Results: TP, TN, FP, FN\")\n",
    "plt.legend(title=\"Outcome\", loc=\"best\")\n",
    "plt.grid(True)\n",
    "plt.tight_layout()\n",
    "plt.show()"
   ]
  },
  {
   "cell_type": "markdown",
   "id": "413ed7de",
   "metadata": {},
   "source": [
    "## Decision Tree Model"
   ]
  }
 ],
 "metadata": {
  "kernelspec": {
   "display_name": ".venv",
   "language": "python",
   "name": "python3"
  },
  "language_info": {
   "codemirror_mode": {
    "name": "ipython",
    "version": 3
   },
   "file_extension": ".py",
   "mimetype": "text/x-python",
   "name": "python",
   "nbconvert_exporter": "python",
   "pygments_lexer": "ipython3",
   "version": "3.11.3"
  }
 },
 "nbformat": 4,
 "nbformat_minor": 5
}
