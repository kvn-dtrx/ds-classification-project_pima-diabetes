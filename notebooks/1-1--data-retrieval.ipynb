{
 "cells": [
  {
   "cell_type": "markdown",
   "id": "6006171f",
   "metadata": {},
   "source": [
    "# 1. Data Retrieval\n",
    "\n",
    "**TODO:** Copy from \n",
    "\n",
    "One for manual inspection (csv) and one conservative (pkl)"
   ]
  },
  {
   "cell_type": "markdown",
   "id": "439c1d9f",
   "metadata": {},
   "source": [
    "Loads necessary libraries for the EDA:"
   ]
  },
  {
   "cell_type": "code",
   "execution_count": null,
   "id": "c58a1497",
   "metadata": {},
   "outputs": [],
   "source": [
    "import os\n",
    "import subprocess\n",
    "from sqlalchemy import create_engine\n",
    "import pandas as pd\n",
    "from dotenv import load_dotenv"
   ]
  },
  {
   "cell_type": "markdown",
   "id": "191764c8",
   "metadata": {},
   "source": [
    "Global configs:"
   ]
  },
  {
   "cell_type": "code",
   "execution_count": null,
   "id": "73f64a4f",
   "metadata": {},
   "outputs": [],
   "source": [
    "# Path to root directory of the repo.\n",
    "root_dir_ = subprocess.check_output(\n",
    "    [\"git\", \"rev-parse\", \"--show-toplevel\"],\n",
    "    text=True,\n",
    ")\n",
    "ROOT_DIR = root_dir_.strip()\n",
    "\n",
    "# Path to data directory.\n",
    "DATA_DIR = os.path.join(ROOT_DIR, \"data\")\n",
    "\n",
    "# Paths to which dataframes will be saved\n",
    "DF_PKL_PATH = os.path.join(DATA_DIR, \"df.pkl\")\n",
    "DF_CSV_PATH = os.path.join(DATA_DIR, \"df.csv\") "
   ]
  },
  {
   "cell_type": "markdown",
   "id": "c7faf220",
   "metadata": {},
   "source": [
    "After exploring in db beaver. We jouin on id patient id"
   ]
  },
  {
   "cell_type": "code",
   "execution_count": null,
   "id": "b01cbbc8",
   "metadata": {},
   "outputs": [],
   "source": [
    "QUERY = \"\"\"\n",
    "    SET SCHEMA 'diabetes';\n",
    "    SELECT * FROM\n",
    "            patient p\n",
    "        LEFT JOIN\n",
    "            blood_metrics bm\n",
    "        ON p.id = bm.patientid\n",
    "        LEFT JOIN\n",
    "            pedigree_outcome po\n",
    "        ON p.id = po.patientid\n",
    "        LEFT JOIN\n",
    "            skin s\n",
    "        ON p.id = s.patientid\n",
    "    ;\n",
    "\"\"\""
   ]
  },
  {
   "cell_type": "markdown",
   "id": "6e9628b8",
   "metadata": {},
   "source": [
    "Loads data from the database and stores it in pandas dataframes:"
   ]
  },
  {
   "cell_type": "code",
   "execution_count": null,
   "id": "fd43fdd3",
   "metadata": {},
   "outputs": [],
   "source": [
    "load_dotenv()\n",
    "\n",
    "DB_CONFIG = {\n",
    "    \"database\": os.getenv(\"DATABASE\"),\n",
    "    \"scheme\": os.getenv(\"SCHEME\"),\n",
    "    \"user\": os.getenv(\"USER\"),\n",
    "    \"password\": os.getenv(\"PASSWORD\"),\n",
    "    \"host\": os.getenv(\"HOST\"),\n",
    "    \"port\": os.getenv(\"PORT\")\n",
    "}\n",
    "\n",
    "DB_STRING = (\n",
    "    \"{scheme}://{user}:{password}@{host}:{port}/{database}\"\n",
    "    .format(**DB_CONFIG)\n",
    ")\n",
    "\n",
    "print(DB_STRING)"
   ]
  },
  {
   "cell_type": "code",
   "execution_count": null,
   "id": "69d1bf5c",
   "metadata": {},
   "outputs": [],
   "source": [
    "db = create_engine(DB_STRING)\n",
    "\n",
    "with db.connect() as conn:\n",
    "    df = pd.read_sql(QUERY, conn)"
   ]
  },
  {
   "cell_type": "markdown",
   "id": "52d8afe3",
   "metadata": {},
   "source": [
    "Let us check that the data were retrieved."
   ]
  },
  {
   "cell_type": "code",
   "execution_count": null,
   "id": "bcc60988",
   "metadata": {},
   "outputs": [],
   "source": [
    "df.info()"
   ]
  },
  {
   "cell_type": "code",
   "execution_count": null,
   "id": "240154c4",
   "metadata": {},
   "outputs": [],
   "source": [
    "df.sample(10)\n",
    "\n"
   ]
  },
  {
   "cell_type": "markdown",
   "id": "75fd3377",
   "metadata": {},
   "source": [
    "Before storing, let us remove "
   ]
  },
  {
   "cell_type": "code",
   "execution_count": null,
   "id": "d60a3ed2",
   "metadata": {},
   "outputs": [],
   "source": [
    "df = df.loc[:, ~df.columns.duplicated()]"
   ]
  },
  {
   "cell_type": "code",
   "execution_count": null,
   "id": "15aef3f6",
   "metadata": {},
   "outputs": [],
   "source": [
    "df.to_pickle(DF_PKL_PATH)\n",
    "df.to_csv(DF_CSV_PATH, index=False)"
   ]
  }
 ],
 "metadata": {
  "kernelspec": {
   "display_name": ".venv",
   "language": "python",
   "name": "python3"
  },
  "language_info": {
   "codemirror_mode": {
    "name": "ipython",
    "version": 3
   },
   "file_extension": ".py",
   "mimetype": "text/x-python",
   "name": "python",
   "nbconvert_exporter": "python",
   "pygments_lexer": "ipython3",
   "version": "3.11.3"
  }
 },
 "nbformat": 4,
 "nbformat_minor": 5
}
